{
 "cells": [
  {
   "cell_type": "code",
   "execution_count": 1,
   "metadata": {},
   "outputs": [],
   "source": [
    "import pandas as pd\n",
    "import numpy as np\n",
    "import matplotlib.pyplot as plt\n",
    "import seaborn as sns"
   ]
  },
  {
   "cell_type": "code",
   "execution_count": 2,
   "metadata": {},
   "outputs": [],
   "source": [
    "def pre(data):\n",
    "    GPU = data.loc[0]\n",
    "    memory = data.loc[1]\n",
    "    GPU =GPU[1:]\n",
    "    memory =memory[1:]\n",
    "    GPU= GPU.to_numpy()\n",
    "    memory = memory.to_numpy()\n",
    "    #print(GPU.mean(), memory.mean())\n",
    "    return GPU, memory"
   ]
  },
  {
   "cell_type": "code",
   "execution_count": 3,
   "metadata": {},
   "outputs": [],
   "source": [
    "def read(i):\n",
    "    k=[\"20.0\",\"10.0\",\"50.0\",\"30.0\"]\n",
    "    file_name_adamm=\"Prob_0.1occupy time10.0Timeout\"+k[i]+\".csv\"\n",
    "    data = pd.read_csv(file_name_adamm,header=None)\n",
    "    g, m= pre(data)\n",
    "    return g.mean(),m.mean()"
   ]
  },
  {
   "cell_type": "code",
   "execution_count": 4,
   "metadata": {},
   "outputs": [],
   "source": [
    "def get_save_time(g,m):\n",
    "    position=[]\n",
    "    save_time=[]\n",
    "    for i in range(len(m)):\n",
    "        if m[i]>1:\n",
    "            position.append(i)\n",
    "            #print(i)\n",
    "\n",
    "    for i in range(len(position)-1):\n",
    "        if position[i+1]-position[i] > 1:\n",
    "            #print(position[i+1],position[i])\n",
    "            save_time.append(position[i+1]-position[i])\n",
    "    \n",
    "    print(save_time)\n",
    "    if len(save_time)==0:\n",
    "        save_time.append(300-position[-1])\n",
    "    return np.array(save_time)\n",
    "    #return np.array(save_time).min(),np.array(save_time).mean(),np.array(save_time).max()"
   ]
  },
  {
   "cell_type": "code",
   "execution_count": 5,
   "metadata": {},
   "outputs": [],
   "source": [
    "def read2(p,x,save):\n",
    "    P = [\"0.1\",\"0.3\",\"0.7\"]\n",
    "    X = [\"10.0\",\"15.0\",\"30.0\"]\n",
    "    T=[\"10.0\",\"500.0\"]\n",
    "    \n",
    "    if x == 3:\n",
    "        file_name = \"../last/Prob_\"+P[p]+\"occupy time\"+X[2]+\"Timeout\"+T[1]+\".csv\"\n",
    "       \n",
    "    else:\n",
    "        file_name = \"../last/Prob_\"+P[p]+\"occupy time\"+X[x]+\"Timeout\"+T[0]+\".csv\"\n",
    "    data = pd.read_csv(file_name,header=None)\n",
    "\n",
    "    g, m = pre(data)\n",
    "    if save==0:\n",
    "        return g.mean(),m.mean()\n",
    "        #return g,m\n",
    "        #return g, m\n",
    "    else:\n",
    "        tmp = get_save_time(g,m)\n",
    "        return tmp\n",
    "        #a,b,c=get_save_time(g,m)\n",
    "        #return a,b,c"
   ]
  },
  {
   "cell_type": "code",
   "execution_count": 14,
   "metadata": {},
   "outputs": [],
   "source": [
    "#gpus=[]\n",
    "memorys=[]\n",
    "#saves=[]\n",
    "for j in range(4):\n",
    "    tmp1,tmp2= read(j)\n",
    "        #gpus.append(tmp1)\n",
    "    memory.append(tmp2)\n",
    "        #save_times.append(save_time)\n",
    "#print(gpus, memory)\n",
    "\n",
    "\n"
   ]
  },
  {
   "cell_type": "code",
   "execution_count": 7,
   "metadata": {
    "scrolled": true
   },
   "outputs": [
    {
     "name": "stdout",
     "output_type": "stream",
     "text": [
      "[38]\n",
      "[211]\n",
      "[]\n",
      "[34, 12, 17, 17, 38, 11]\n",
      "[15, 47, 3, 43, 29]\n",
      "[28, 37]\n",
      "[9, 4, 16, 15, 5, 26]\n",
      "[4, 7, 2, 4, 17, 24, 12]\n",
      "[5]\n",
      "[array([38]), array([211]), array([103]), array([34, 12, 17, 17, 38, 11]), array([15, 47,  3, 43, 29]), array([28, 37]), array([ 9,  4, 16, 15,  5, 26]), array([ 4,  7,  2,  4, 17, 24, 12]), array([5])]\n"
     ]
    },
    {
     "data": {
      "text/html": [
       "<div>\n",
       "<style scoped>\n",
       "    .dataframe tbody tr th:only-of-type {\n",
       "        vertical-align: middle;\n",
       "    }\n",
       "\n",
       "    .dataframe tbody tr th {\n",
       "        vertical-align: top;\n",
       "    }\n",
       "\n",
       "    .dataframe thead th {\n",
       "        text-align: right;\n",
       "    }\n",
       "</style>\n",
       "<table border=\"1\" class=\"dataframe\">\n",
       "  <thead>\n",
       "    <tr style=\"text-align: right;\">\n",
       "      <th></th>\n",
       "      <th>Save_time</th>\n",
       "      <th>T</th>\n",
       "      <th>X</th>\n",
       "    </tr>\n",
       "  </thead>\n",
       "  <tbody>\n",
       "    <tr>\n",
       "      <th>0</th>\n",
       "      <td>38.0</td>\n",
       "      <td>10</td>\n",
       "      <td>10%</td>\n",
       "    </tr>\n",
       "    <tr>\n",
       "      <th>1</th>\n",
       "      <td>211.0</td>\n",
       "      <td>15</td>\n",
       "      <td>10%</td>\n",
       "    </tr>\n",
       "    <tr>\n",
       "      <th>2</th>\n",
       "      <td>103.0</td>\n",
       "      <td>30</td>\n",
       "      <td>10%</td>\n",
       "    </tr>\n",
       "    <tr>\n",
       "      <th>3</th>\n",
       "      <td>34.0</td>\n",
       "      <td>10</td>\n",
       "      <td>30%</td>\n",
       "    </tr>\n",
       "    <tr>\n",
       "      <th>4</th>\n",
       "      <td>12.0</td>\n",
       "      <td>10</td>\n",
       "      <td>30%</td>\n",
       "    </tr>\n",
       "    <tr>\n",
       "      <th>5</th>\n",
       "      <td>17.0</td>\n",
       "      <td>10</td>\n",
       "      <td>30%</td>\n",
       "    </tr>\n",
       "    <tr>\n",
       "      <th>6</th>\n",
       "      <td>17.0</td>\n",
       "      <td>10</td>\n",
       "      <td>30%</td>\n",
       "    </tr>\n",
       "    <tr>\n",
       "      <th>7</th>\n",
       "      <td>38.0</td>\n",
       "      <td>10</td>\n",
       "      <td>30%</td>\n",
       "    </tr>\n",
       "    <tr>\n",
       "      <th>8</th>\n",
       "      <td>11.0</td>\n",
       "      <td>10</td>\n",
       "      <td>30%</td>\n",
       "    </tr>\n",
       "    <tr>\n",
       "      <th>9</th>\n",
       "      <td>15.0</td>\n",
       "      <td>15</td>\n",
       "      <td>30%</td>\n",
       "    </tr>\n",
       "    <tr>\n",
       "      <th>10</th>\n",
       "      <td>47.0</td>\n",
       "      <td>15</td>\n",
       "      <td>30%</td>\n",
       "    </tr>\n",
       "    <tr>\n",
       "      <th>11</th>\n",
       "      <td>3.0</td>\n",
       "      <td>15</td>\n",
       "      <td>30%</td>\n",
       "    </tr>\n",
       "    <tr>\n",
       "      <th>12</th>\n",
       "      <td>43.0</td>\n",
       "      <td>15</td>\n",
       "      <td>30%</td>\n",
       "    </tr>\n",
       "    <tr>\n",
       "      <th>13</th>\n",
       "      <td>29.0</td>\n",
       "      <td>15</td>\n",
       "      <td>30%</td>\n",
       "    </tr>\n",
       "    <tr>\n",
       "      <th>14</th>\n",
       "      <td>28.0</td>\n",
       "      <td>30</td>\n",
       "      <td>30%</td>\n",
       "    </tr>\n",
       "    <tr>\n",
       "      <th>15</th>\n",
       "      <td>37.0</td>\n",
       "      <td>30</td>\n",
       "      <td>30%</td>\n",
       "    </tr>\n",
       "    <tr>\n",
       "      <th>16</th>\n",
       "      <td>9.0</td>\n",
       "      <td>10</td>\n",
       "      <td>70%</td>\n",
       "    </tr>\n",
       "    <tr>\n",
       "      <th>17</th>\n",
       "      <td>4.0</td>\n",
       "      <td>10</td>\n",
       "      <td>70%</td>\n",
       "    </tr>\n",
       "    <tr>\n",
       "      <th>18</th>\n",
       "      <td>16.0</td>\n",
       "      <td>10</td>\n",
       "      <td>70%</td>\n",
       "    </tr>\n",
       "    <tr>\n",
       "      <th>19</th>\n",
       "      <td>15.0</td>\n",
       "      <td>10</td>\n",
       "      <td>70%</td>\n",
       "    </tr>\n",
       "    <tr>\n",
       "      <th>20</th>\n",
       "      <td>5.0</td>\n",
       "      <td>10</td>\n",
       "      <td>70%</td>\n",
       "    </tr>\n",
       "    <tr>\n",
       "      <th>21</th>\n",
       "      <td>26.0</td>\n",
       "      <td>10</td>\n",
       "      <td>70%</td>\n",
       "    </tr>\n",
       "    <tr>\n",
       "      <th>22</th>\n",
       "      <td>4.0</td>\n",
       "      <td>15</td>\n",
       "      <td>70%</td>\n",
       "    </tr>\n",
       "    <tr>\n",
       "      <th>23</th>\n",
       "      <td>7.0</td>\n",
       "      <td>15</td>\n",
       "      <td>70%</td>\n",
       "    </tr>\n",
       "    <tr>\n",
       "      <th>24</th>\n",
       "      <td>2.0</td>\n",
       "      <td>15</td>\n",
       "      <td>70%</td>\n",
       "    </tr>\n",
       "    <tr>\n",
       "      <th>25</th>\n",
       "      <td>4.0</td>\n",
       "      <td>15</td>\n",
       "      <td>70%</td>\n",
       "    </tr>\n",
       "    <tr>\n",
       "      <th>26</th>\n",
       "      <td>17.0</td>\n",
       "      <td>15</td>\n",
       "      <td>70%</td>\n",
       "    </tr>\n",
       "    <tr>\n",
       "      <th>27</th>\n",
       "      <td>24.0</td>\n",
       "      <td>15</td>\n",
       "      <td>70%</td>\n",
       "    </tr>\n",
       "    <tr>\n",
       "      <th>28</th>\n",
       "      <td>12.0</td>\n",
       "      <td>15</td>\n",
       "      <td>70%</td>\n",
       "    </tr>\n",
       "    <tr>\n",
       "      <th>29</th>\n",
       "      <td>5.0</td>\n",
       "      <td>30</td>\n",
       "      <td>70%</td>\n",
       "    </tr>\n",
       "  </tbody>\n",
       "</table>\n",
       "</div>"
      ],
      "text/plain": [
       "    Save_time   T    X\n",
       "0        38.0  10  10%\n",
       "1       211.0  15  10%\n",
       "2       103.0  30  10%\n",
       "3        34.0  10  30%\n",
       "4        12.0  10  30%\n",
       "5        17.0  10  30%\n",
       "6        17.0  10  30%\n",
       "7        38.0  10  30%\n",
       "8        11.0  10  30%\n",
       "9        15.0  15  30%\n",
       "10       47.0  15  30%\n",
       "11        3.0  15  30%\n",
       "12       43.0  15  30%\n",
       "13       29.0  15  30%\n",
       "14       28.0  30  30%\n",
       "15       37.0  30  30%\n",
       "16        9.0  10  70%\n",
       "17        4.0  10  70%\n",
       "18       16.0  10  70%\n",
       "19       15.0  10  70%\n",
       "20        5.0  10  70%\n",
       "21       26.0  10  70%\n",
       "22        4.0  15  70%\n",
       "23        7.0  15  70%\n",
       "24        2.0  15  70%\n",
       "25        4.0  15  70%\n",
       "26       17.0  15  70%\n",
       "27       24.0  15  70%\n",
       "28       12.0  15  70%\n",
       "29        5.0  30  70%"
      ]
     },
     "execution_count": 7,
     "metadata": {},
     "output_type": "execute_result"
    }
   ],
   "source": [
    "tmp=[]\n",
    "for j in range(3):\n",
    "    for i in range(3):\n",
    "        tmp1 = read2(j,i,1)\n",
    "        #print(\"Tmp1\",tmp1)\n",
    "        tmp.append(tmp1)\n",
    "print(tmp)\n",
    "\n",
    "t=[\"10\",\"15\",\"30\",\"10\",\"15\",\"30\",\"10\",\"15\",\"30\"]\n",
    "x=[\"10%\",\"10%\",\"10%\",\"30%\",\"30%\",\"30%\",\"70%\",\"70%\",\"70%\"]\n",
    "data = pd.DataFrame()\n",
    "for i in range(len(tmp)):\n",
    "    for j in tmp[i]:\n",
    "        data=data.append({'Save_time':j,'X':x[i],'T':t[i]},ignore_index=True)\n",
    "data"
   ]
  },
  {
   "cell_type": "code",
   "execution_count": 8,
   "metadata": {
    "collapsed": true
   },
   "outputs": [
    {
     "data": {
      "image/png": "[encoded data removed]",
      "text/plain": [
       "<Figure size 432x288 with 1 Axes>"
      ]
     },
     "metadata": {
      "needs_background": "light"
     },
     "output_type": "display_data"
    }
   ],
   "source": [
    "sns.boxplot(x=\"X\",y=\"Save_time\",hue=\"T\",data=data)\n",
    "plt.show()"
   ]
  },
  {
   "cell_type": "code",
   "execution_count": 9,
   "metadata": {},
   "outputs": [
    {
     "name": "stdout",
     "output_type": "stream",
     "text": [
      "        Save_time\n",
      "T  X             \n",
      "10 10%        NaN\n",
      "   30%  11.571517\n",
      "   70%   8.264381\n",
      "15 10%        NaN\n",
      "   30%  18.568791\n",
      "   70%   8.103497\n",
      "30 10%        NaN\n",
      "   30%   6.363961\n",
      "   70%        NaN\n"
     ]
    },
    {
     "data": {
      "text/plain": [
       "[0, 0, 0, 11.571517, 18.568791, 6.363961, 8.264381, 8.103497, 0]"
      ]
     },
     "execution_count": 9,
     "metadata": {},
     "output_type": "execute_result"
    }
   ],
   "source": [
    "stds=[0,0,0,11.571517,18.568791,6.363961,8.264381,8.103497,0]\n",
    "means=[39,212,104,22.5,28.4,33.5,13.5,11.0,6.0]\n",
    "data2=data.groupby([\"T\",\"X\"]).std()\n",
    "print(data2)\n",
    "mins=[]\n",
    "data2[\"Save_time\"][8]\n",
    "\n",
    "for i in range(9):\n",
    "    mins.append(data2[\"Save_time\"][i])\n",
    "stds"
   ]
  },
  {
   "cell_type": "code",
   "execution_count": 10,
   "metadata": {},
   "outputs": [
    {
     "ename": "NameError",
     "evalue": "name 's_max' is not defined",
     "output_type": "error",
     "traceback": [
      "\u001b[1;31m---------------------------------------------------------------------------\u001b[0m",
      "\u001b[1;31mNameError\u001b[0m                                 Traceback (most recent call last)",
      "\u001b[1;32m<ipython-input-10-748caba1128d>\u001b[0m in \u001b[0;36m<module>\u001b[1;34m\u001b[0m\n\u001b[0;32m      3\u001b[0m \u001b[0my_pos\u001b[0m\u001b[1;33m=\u001b[0m\u001b[0mnp\u001b[0m\u001b[1;33m.\u001b[0m\u001b[0marange\u001b[0m\u001b[1;33m(\u001b[0m\u001b[0mlen\u001b[0m\u001b[1;33m(\u001b[0m\u001b[0mlabel\u001b[0m\u001b[1;33m)\u001b[0m\u001b[1;33m)\u001b[0m\u001b[1;33m\u001b[0m\u001b[1;33m\u001b[0m\u001b[0m\n\u001b[0;32m      4\u001b[0m \u001b[1;33m\u001b[0m\u001b[0m\n\u001b[1;32m----> 5\u001b[1;33m \u001b[0mp1\u001b[0m\u001b[1;33m=\u001b[0m\u001b[0mplt\u001b[0m\u001b[1;33m.\u001b[0m\u001b[0mbar\u001b[0m\u001b[1;33m(\u001b[0m\u001b[0my_pos\u001b[0m\u001b[1;33m+\u001b[0m\u001b[1;36m0\u001b[0m\u001b[1;33m,\u001b[0m \u001b[1;33m[\u001b[0m\u001b[0ms_max\u001b[0m\u001b[1;33m[\u001b[0m\u001b[1;36m0\u001b[0m\u001b[1;33m]\u001b[0m\u001b[1;33m,\u001b[0m\u001b[0ms_max\u001b[0m\u001b[1;33m[\u001b[0m\u001b[1;36m3\u001b[0m\u001b[1;33m]\u001b[0m\u001b[1;33m,\u001b[0m\u001b[0ms_max\u001b[0m\u001b[1;33m[\u001b[0m\u001b[1;36m6\u001b[0m\u001b[1;33m]\u001b[0m\u001b[1;33m,\u001b[0m\u001b[0ms_max\u001b[0m\u001b[1;33m[\u001b[0m\u001b[1;36m9\u001b[0m\u001b[1;33m]\u001b[0m\u001b[1;33m]\u001b[0m\u001b[1;33m,\u001b[0m\u001b[0mwidth\u001b[0m\u001b[1;33m=\u001b[0m\u001b[1;36m0.2\u001b[0m\u001b[1;33m,\u001b[0m\u001b[0mcolor\u001b[0m\u001b[1;33m=\u001b[0m\u001b[1;34m\"b\"\u001b[0m\u001b[1;33m,\u001b[0m\u001b[0malpha\u001b[0m\u001b[1;33m=\u001b[0m\u001b[1;36m0.2\u001b[0m\u001b[1;33m)\u001b[0m\u001b[1;33m\u001b[0m\u001b[1;33m\u001b[0m\u001b[0m\n\u001b[0m\u001b[0;32m      6\u001b[0m \u001b[0mp2\u001b[0m\u001b[1;33m=\u001b[0m\u001b[0mplt\u001b[0m\u001b[1;33m.\u001b[0m\u001b[0mbar\u001b[0m\u001b[1;33m(\u001b[0m\u001b[0my_pos\u001b[0m\u001b[1;33m+\u001b[0m\u001b[1;36m0\u001b[0m\u001b[1;33m,\u001b[0m \u001b[1;33m[\u001b[0m\u001b[0ms_min\u001b[0m\u001b[1;33m[\u001b[0m\u001b[1;36m0\u001b[0m\u001b[1;33m]\u001b[0m\u001b[1;33m,\u001b[0m\u001b[0ms_min\u001b[0m\u001b[1;33m[\u001b[0m\u001b[1;36m3\u001b[0m\u001b[1;33m]\u001b[0m\u001b[1;33m,\u001b[0m\u001b[0ms_min\u001b[0m\u001b[1;33m[\u001b[0m\u001b[1;36m6\u001b[0m\u001b[1;33m]\u001b[0m\u001b[1;33m,\u001b[0m\u001b[0ms_min\u001b[0m\u001b[1;33m[\u001b[0m\u001b[1;36m9\u001b[0m\u001b[1;33m]\u001b[0m\u001b[1;33m]\u001b[0m\u001b[1;33m,\u001b[0m\u001b[0mwidth\u001b[0m\u001b[1;33m=\u001b[0m\u001b[1;36m0.2\u001b[0m\u001b[1;33m,\u001b[0m\u001b[0mcolor\u001b[0m\u001b[1;33m=\u001b[0m\u001b[1;34m\"b\"\u001b[0m\u001b[1;33m,\u001b[0m\u001b[0malpha\u001b[0m\u001b[1;33m=\u001b[0m\u001b[1;36m0.5\u001b[0m\u001b[1;33m)\u001b[0m\u001b[1;33m\u001b[0m\u001b[1;33m\u001b[0m\u001b[0m\n\u001b[0;32m      7\u001b[0m \u001b[1;33m\u001b[0m\u001b[0m\n",
      "\u001b[1;31mNameError\u001b[0m: name 's_max' is not defined"
     ]
    }
   ],
   "source": [
    "label=[\"X=10%\",\"X=30%\",\"X=70%\"]\n",
    "#label=['X=10','X=15','X=30']\n",
    "y_pos=np.arange(len(label))\n",
    "\n",
    "p1=plt.bar(y_pos+0, [s_max[0],s_max[3],s_max[6],s_max[9]],width=0.2,color=\"b\",alpha=0.2)\n",
    "p2=plt.bar(y_pos+0, [s_min[0],s_min[3],s_min[6],s_min[9]],width=0.2,color=\"b\",alpha=0.5)\n",
    "\n",
    "p3=plt.bar(y_pos+0.2,[s_max[1],s_max[4],s_max[7],s_max[10]],width=0.2,color=\"g\",alpha=0.2)\n",
    "p4=plt.bar(y_pos+0.2, [s_min[1],s_min[4],s_min[7],s_min[10]],width=0.2,color=\"g\",alpha=0.5)\n",
    "\n",
    "p5=plt.bar(y_pos+0.4, [s_max[2],s_max[5],s_max[8],s_max[11]],width=0.2,color=\"r\",alpha=0.2)\n",
    "p6=plt.bar(y_pos+0.4, [s_min[2],s_min[5],s_min[8],s_min[11]],width=0.2,color=\"r\",alpha=0.5)\n",
    "\n",
    "\"\"\"\n",
    "plt.scatter(y_pos+0, [s_max[0],s_max[3],s_max[6],s_max[9]])\n",
    "plt.scatter(y_pos+0.2, [s_max[1],s_max[4],s_max[7],s_max[10]])\n",
    "plt.scatter(y_pos+0.4, [s_max[2],s_max[5],s_max[8],s_max[11]])\n",
    "\n",
    "plt.plot(y_pos+0, [s_min[0],s_min[3],s_min[6],s_min[9]])\n",
    "plt.plot(y_pos+0.2, [s_min[1],s_min[4],s_min[7],s_min[10]])\n",
    "plt.plot(y_pos+0.4, [s_min[2],s_min[5],s_min[8],s_min[11]])\n",
    "\"\"\"\n",
    "plt.xticks(y_pos+0.2, label)\n",
    "plt.ylabel(\"second\")\n",
    "plt.legend([p2[0],p4[0],p6[0]],[\"T=10\", \"T=15\",\"T=30\"])\n",
    "plt.show()\n",
    "plt.savefig('Min_save_time.png')\n"
   ]
  },
  {
   "cell_type": "code",
   "execution_count": 11,
   "metadata": {},
   "outputs": [
    {
     "name": "stdout",
     "output_type": "stream",
     "text": [
      "[0, 0, 0, 11.571517, 18.568791, 6.363961, 8.264381, 8.103497, 0]\n"
     ]
    },
    {
     "data": {
      "image/png": "[encoded data removed]",
      "text/plain": [
       "<Figure size 432x288 with 1 Axes>"
      ]
     },
     "metadata": {
      "needs_background": "light"
     },
     "output_type": "display_data"
    },
    {
     "data": {
      "text/plain": [
       "<Figure size 432x288 with 0 Axes>"
      ]
     },
     "metadata": {},
     "output_type": "display_data"
    }
   ],
   "source": [
    "label=[\"X=10%\",\"X=30%\",\"X=70%\"]\n",
    "print(stds)\n",
    "\n",
    "#label=['X=10','X=15','X=30']\n",
    "y_pos=np.arange(len(label))\n",
    "plt.bar(y_pos+0, [means[0],means[3],means[6]],width=0.2,yerr=[stds[0],stds[3],stds[6]])\n",
    "plt.bar(y_pos+0.2,[means[1],means[4],means[7]],width=0.2,yerr=[stds[1],stds[4],stds[7]])\n",
    "plt.bar(y_pos+0.4, [means[2],means[5],means[8]],width=0.2,yerr=[stds[2],stds[5],stds[8]])\n",
    "\n",
    "plt.xticks(y_pos+0.2, label)\n",
    "plt.ylabel(\"second\")\n",
    "plt.legend([\"T=10\", \"T=15\",\"T=30\"])\n",
    "plt.show()\n",
    "plt.savefig('Min_save_time.png')"
   ]
  },
  {
   "cell_type": "code",
   "execution_count": 11,
   "metadata": {},
   "outputs": [
    {
     "data": {
      "image/png": "[encoded data removed]",
      "text/plain": [
       "<Figure size 432x288 with 1 Axes>"
      ]
     },
     "metadata": {
      "needs_background": "light"
     },
     "output_type": "display_data"
    },
    {
     "data": {
      "text/plain": [
       "<Figure size 432x288 with 0 Axes>"
      ]
     },
     "metadata": {},
     "output_type": "display_data"
    }
   ],
   "source": [
    "label=[\"X=10%\",\"X=30%\",\"X=70%\"]\n",
    "#label=['X=10','X=15','X=30']\n",
    "y_pos=np.arange(len(label))\n",
    "\n",
    "p1=plt.bar(y_pos+0, [memory[3],memory[7],memory[11]],width=0.2,color=\"blue\",alpha=0.2)\n",
    "p2=plt.bar(y_pos+0, [memory[0],memory[4],memory[8]],width=0.2,color=\"blue\",alpha=0.5)\n",
    "\n",
    "p3=plt.bar(y_pos+0.2, [memory[3],memory[7],memory[11]],width=0.2,color=\"green\",alpha=0.2)\n",
    "p4=plt.bar(y_pos+0.2, [memory[1],memory[5],memory[9]],width=0.2,color=\"green\",alpha=0.5)\n",
    "\n",
    "p5=plt.bar(y_pos+0.4, [memory[3],memory[7],memory[11]],width=0.2,color=\"red\",alpha=0.2)\n",
    "p6=plt.bar(y_pos+0.4, [memory[2],memory[6],memory[10]],width=0.2,color=\"red\",alpha=0.5)\n",
    "\n",
    "\n",
    "plt.xticks(y_pos+0.2, label)\n",
    "plt.ylabel(\"GPU memory utilization (%)\")\n",
    "plt.legend([p2[0],p4[0],p6[0]],[\"T=10\", \"T=15\",\"T=30\"])\n",
    "plt.show()\n",
    "plt.savefig('avg_gpu.png')\n"
   ]
  },
  {
   "cell_type": "code",
   "execution_count": 32,
   "metadata": {},
   "outputs": [
    {
     "data": {
      "image/png": "[encoded data removed]",
      "text/plain": [
       "<Figure size 432x288 with 1 Axes>"
      ]
     },
     "metadata": {
      "needs_background": "light"
     },
     "output_type": "display_data"
    },
    {
     "data": {
      "text/plain": [
       "<Figure size 432x288 with 0 Axes>"
      ]
     },
     "metadata": {},
     "output_type": "display_data"
    }
   ],
   "source": [
    "plt.bar(y_pos+0, [memory[3],memory[7],memory[11],memory[15]], yeer=std,width=0.2,color=\"blue\",alpha=0.2)\n",
    "plt.bar(y_pos+0, [memory[0],memory[4],memory[8],memory[12]],width=0.2,color=\"blue\",alpha=0.5)\n",
    "\n",
    "plt.bar(y_pos+0.2, [memory[3],memory[7],memory[11],memory[15]],width=0.2,color=\"green\",alpha=0.2)\n",
    "plt.bar(y_pos+0.2, [memory[1],memory[5],memory[9],memory[13]],width=0.2,color=\"green\",alpha=0.5)\n",
    "\n",
    "plt.bar(y_pos+0.4, [memory[3],memory[7],memory[11],memory[15]],width=0.2,color=\"red\",alpha=0.2)\n",
    "plt.bar(y_pos+0.4, [memory[2],memory[5],memory[9],memory[13]],width=0.2,color=\"red\",alpha=0.5)\n",
    "\n",
    "\n",
    "plt.xticks(y_pos+0.2, label)\n",
    "plt.ylabel(\"GPU memory (%)\")\n",
    "plt.legend([\"T=10\", \"T=15\",\"T=30\"])\n",
    "plt.show()\n",
    "plt.savefig('avg_gpu.png')\n"
   ]
  },
  {
   "cell_type": "code",
   "execution_count": 21,
   "metadata": {},
   "outputs": [
    {
     "data": {
      "text/plain": [
       "([0.5705329153605015,\n",
       "  13.836990595611285,\n",
       "  0.3730407523510972,\n",
       "  10.501567398119123],\n",
       " [21.813687261349557,\n",
       "  27.535603844103317,\n",
       "  42.30650913192558,\n",
       "  43.45332830969668])"
      ]
     },
     "execution_count": 21,
     "metadata": {},
     "output_type": "execute_result"
    }
   ],
   "source": [
    "#fd, without fd,  baseline with fd Baseline without fd,\n",
    "gpus=[]\n",
    "memorys=[]\n",
    "systems = [\"Proposed AdaMM\", \"Proposed AdaMM without frame differencing\" , \"Proposed without adptive process management\", \"Baseline\"]\n",
    "for i in range(4):\n",
    "    tmp1, tmp2 = read(i)\n",
    "    gpus.append(tmp1)\n",
    "    memorys.append(tmp2)\n",
    "gpus,memorys"
   ]
  },
  {
   "cell_type": "code",
   "execution_count": 25,
   "metadata": {},
   "outputs": [
    {
     "data": {
      "image/png": "[encoded data removed]",
      "text/plain": [
       "<Figure size 432x288 with 1 Axes>"
      ]
     },
     "metadata": {
      "needs_background": "light"
     },
     "output_type": "display_data"
    },
    {
     "data": {
      "text/plain": [
       "<Figure size 432x288 with 0 Axes>"
      ]
     },
     "metadata": {},
     "output_type": "display_data"
    }
   ],
   "source": [
    "alpha =0.7\n",
    "\n",
    "p1 = plt.bar([\"Without frame differencing\", \"With frame differencing\"],[memorys[3],memorys[2]], color=\"blue\",alpha=0.2)\n",
    "p2 = plt.bar([\"Without frame differencing\", \"With frame differencing\"],[memorys[1],memorys[0]],color=\"blue\",alpha=0.5)\n",
    "\n",
    "#plt.title(\"Average GPU memory utilization on systems\")\n",
    "#plt.legend((p1[0],p2[0]),(\"Without adaptive process management\"))\n",
    "plt.ylabel(\"GPU memory utilization (%)\")\n",
    "plt.show()\n",
    "plt.savefig(\"AverageGPU_FD.png\")"
   ]
  },
  {
   "cell_type": "code",
   "execution_count": 24,
   "metadata": {},
   "outputs": [
    {
     "data": {
      "image/png": "[encoded data removed]",
      "text/plain": [
       "<Figure size 432x288 with 1 Axes>"
      ]
     },
     "metadata": {
      "needs_background": "light"
     },
     "output_type": "display_data"
    },
    {
     "data": {
      "text/plain": [
       "<Figure size 432x288 with 0 Axes>"
      ]
     },
     "metadata": {},
     "output_type": "display_data"
    }
   ],
   "source": [
    "alpha =0.7\n",
    "\n",
    "p1 = plt.bar([\"Without FD(frame differencing)\", \"With FD\"],[memorys[3],memorys[2]], color=\"blue\",alpha=0.2)\n",
    "p2 = plt.bar([\"Without FD(frame differencing)\", \"With FD\"],[memorys[1],memorys[0]],color=\"blue\",alpha=0.5)\n",
    "\n",
    "plt.title(\"Average GPU usage on systems\")\n",
    "#plt.legend((p1[0],p2[0]),(\"Without adaptive process management\"))\n",
    "plt.ylabel(\"GPU usage utilization(%)\")\n",
    "plt.show()\n",
    "plt.savefig(\"AverageGPU_FD.png\")"
   ]
  },
  {
   "cell_type": "code",
   "execution_count": null,
   "metadata": {},
   "outputs": [],
   "source": []
  }
 ],
 "metadata": {
  "kernelspec": {
   "display_name": "Python 3",
   "language": "python",
   "name": "python3"
  },
  "language_info": {
   "codemirror_mode": {
    "name": "ipython",
    "version": 3
   },
   "file_extension": ".py",
   "mimetype": "text/x-python",
   "name": "python",
   "nbconvert_exporter": "python",
   "pygments_lexer": "ipython3",
   "version": "3.7.4"
  }
 },
 "nbformat": 4,
 "nbformat_minor": 2
}
